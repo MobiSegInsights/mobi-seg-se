{
 "cells": [
  {
   "cell_type": "markdown",
   "source": [
    "# Check repo data for visualization"
   ],
   "metadata": {
    "collapsed": false
   },
   "id": "e74a0faff77a32c3"
  },
  {
   "cell_type": "code",
   "execution_count": 1,
   "outputs": [
    {
     "name": "stdout",
     "output_type": "stream",
     "text": [
      "D:\\mobi-seg-se\n"
     ]
    }
   ],
   "source": [
    "%load_ext autoreload\n",
    "%autoreload 2\n",
    "%cd D:\\mobi-seg-se"
   ],
   "metadata": {
    "collapsed": false,
    "ExecuteTime": {
     "end_time": "2024-07-18T17:07:42.135847400Z",
     "start_time": "2024-07-18T17:07:42.068911900Z"
    }
   },
   "id": "c1d82e21dbcb0fd5"
  },
  {
   "cell_type": "code",
   "execution_count": 3,
   "outputs": [],
   "source": [
    "import os\n",
    "import pandas as pd"
   ],
   "metadata": {
    "collapsed": false,
    "ExecuteTime": {
     "end_time": "2024-07-18T17:08:52.059223100Z",
     "start_time": "2024-07-18T17:08:50.804931Z"
    }
   },
   "id": "361eb24a48177e4f"
  },
  {
   "cell_type": "code",
   "execution_count": 9,
   "outputs": [
    {
     "data": {
      "text/plain": "25"
     },
     "execution_count": 9,
     "metadata": {},
     "output_type": "execute_result"
    }
   ],
   "source": [
    "data_folder = 'results/'\n",
    "def get_all_files(directory):\n",
    "    file_paths = []\n",
    "    for root, directories, files in os.walk(directory):\n",
    "        for filename in files:\n",
    "            # Construct the full file path\n",
    "            filepath = os.path.join(root, filename)\n",
    "            file_paths.append(filepath)\n",
    "    return file_paths\n",
    "\n",
    "# Get all files\n",
    "all_files = get_all_files(data_folder)\n",
    "\n",
    "all_files = [x for x in all_files if x.split('.')[-1] != 'csv']\n",
    "len(all_files)"
   ],
   "metadata": {
    "collapsed": false,
    "ExecuteTime": {
     "end_time": "2024-07-18T17:13:18.640822300Z",
     "start_time": "2024-07-18T17:13:18.562698700Z"
    }
   },
   "id": "19b392b414e9eda9"
  },
  {
   "cell_type": "markdown",
   "source": [
    "## Supporting figures' data"
   ],
   "metadata": {
    "collapsed": false
   },
   "id": "9ab14429690ab62a"
  },
  {
   "cell_type": "code",
   "execution_count": 19,
   "outputs": [
    {
     "name": "stdout",
     "output_type": "stream",
     "text": [
      "results/statistical_tests/ice.parquet\n",
      "uid        00008608-f79e-414d-bf1c-25632d6bc059\n",
      "wt_p                                  84.428571\n",
      "grp_r                                         D\n",
      "ice_r                                  0.324146\n",
      "ice_enh                                0.047824\n",
      "ice_e1                                 -0.07522\n",
      "ice_e2                                -0.073701\n",
      "Name: 0, dtype: object\n"
     ]
    }
   ],
   "source": [
    "f = 'results/statistical_tests/ice.parquet'\n",
    "print(f)\n",
    "df = pd.read_parquet(f)\n",
    "print(df.iloc[0])"
   ],
   "metadata": {
    "collapsed": false,
    "ExecuteTime": {
     "end_time": "2024-07-18T17:23:59.587165100Z",
     "start_time": "2024-07-18T17:23:58.794245100Z"
    }
   },
   "id": "579597ab603370b4"
  },
  {
   "cell_type": "code",
   "execution_count": 21,
   "outputs": [
    {
     "name": "stdout",
     "output_type": "stream",
     "text": [
      "results/plot/group_exposure_plot_combined.parquet\n",
      "wt_p          84.428571\n",
      "grp_r                 D\n",
      "value         -1.583836\n",
      "inter_type           DF\n",
      "Group                 2\n",
      "Source        Empirical\n",
      "Name: 0, dtype: object\n"
     ]
    }
   ],
   "source": [
    "f = 'results/plot/group_exposure_plot_combined.parquet'\n",
    "print(f)\n",
    "df = pd.read_parquet(f)\n",
    "print(df.iloc[0])"
   ],
   "metadata": {
    "collapsed": false,
    "ExecuteTime": {
     "end_time": "2024-07-18T17:26:41.235648Z",
     "start_time": "2024-07-18T17:26:40.409411200Z"
    }
   },
   "id": "99622bd5fbbc6b01"
  },
  {
   "cell_type": "code",
   "execution_count": 22,
   "outputs": [
    {
     "name": "stdout",
     "output_type": "stream",
     "text": [
      "results/poi_share_range_by_group.parquet\n",
      "poi_type    Food, Drink, and Groceries\n",
      "est                           0.028005\n",
      "pvalue                             0.0\n",
      "med                           0.232283\n",
      "med_se                        0.000079\n",
      "grp_r                                D\n",
      "cohen_d                      -0.077818\n",
      "ave                           0.248683\n",
      "std                            0.21742\n",
      "Name: 0, dtype: object\n"
     ]
    }
   ],
   "source": [
    "f = 'results/poi_share_range_by_group.parquet'\n",
    "print(f)\n",
    "df = pd.read_parquet(f)\n",
    "print(df.iloc[0])"
   ],
   "metadata": {
    "collapsed": false,
    "ExecuteTime": {
     "end_time": "2024-07-18T17:27:29.046443900Z",
     "start_time": "2024-07-18T17:27:28.904603500Z"
    }
   },
   "id": "56bb8cf767a9d02c"
  },
  {
   "cell_type": "code",
   "execution_count": 23,
   "outputs": [
    {
     "name": "stdout",
     "output_type": "stream",
     "text": [
      "results/poi_share_by_group.parquet\n",
      "poi_type       Education\n",
      "grp_r                  D\n",
      "visit_share     6.729044\n",
      "Name: 0, dtype: object\n"
     ]
    }
   ],
   "source": [
    "f = 'results/poi_share_by_group.parquet'\n",
    "print(f)\n",
    "df = pd.read_parquet(f)\n",
    "print(df.iloc[0])"
   ],
   "metadata": {
    "collapsed": false,
    "ExecuteTime": {
     "end_time": "2024-07-18T17:27:47.963613400Z",
     "start_time": "2024-07-18T17:27:47.823008200Z"
    }
   },
   "id": "443342a5fd697e70"
  },
  {
   "cell_type": "markdown",
   "source": [
    "## 1. Figure panels in the main manuscript\n",
    "### 1.1 Figure 1"
   ],
   "metadata": {
    "collapsed": false
   },
   "id": "960988febb1deddc"
  },
  {
   "cell_type": "code",
   "execution_count": 24,
   "outputs": [
    {
     "name": "stdout",
     "output_type": "stream",
     "text": [
      "results/seg_disparity_map.parquet\n",
      "deso       0114A0010\n",
      "ice_r       0.278675\n",
      "ice_enh    -0.194897\n",
      "Name: 0, dtype: object\n"
     ]
    }
   ],
   "source": [
    "f = 'results/seg_disparity_map.parquet'\n",
    "print(f)\n",
    "df = pd.read_parquet(f)\n",
    "print(df.iloc[0])"
   ],
   "metadata": {
    "collapsed": false,
    "ExecuteTime": {
     "end_time": "2024-07-18T17:28:30.780450700Z",
     "start_time": "2024-07-18T17:28:30.451965100Z"
    }
   },
   "id": "e58699f4cc68e3"
  },
  {
   "cell_type": "code",
   "execution_count": 26,
   "outputs": [
    {
     "name": "stdout",
     "output_type": "stream",
     "text": [
      "results/group_change.csv\n",
      "Residential           D\n",
      "Experienced           D\n",
      "Share          0.087267\n",
      "Name: 0, dtype: object\n"
     ]
    }
   ],
   "source": [
    "f = 'results/group_change.csv'\n",
    "print(f)\n",
    "df = pd.read_csv(f)\n",
    "print(df.iloc[0])"
   ],
   "metadata": {
    "collapsed": false,
    "ExecuteTime": {
     "end_time": "2024-07-18T17:29:28.994499Z",
     "start_time": "2024-07-18T17:29:28.931643900Z"
    }
   },
   "id": "7d4493ed2e52025b"
  },
  {
   "cell_type": "code",
   "execution_count": 27,
   "outputs": [
    {
     "name": "stdout",
     "output_type": "stream",
     "text": [
      "results/plot/seg_res_raw_plot.parquet\n",
      "wt_p        84.428571\n",
      "variable        ice_r\n",
      "value        0.324146\n",
      "Name: 0, dtype: object\n"
     ]
    }
   ],
   "source": [
    "f = 'results/plot/seg_res_raw_plot.parquet'\n",
    "print(f)\n",
    "df = pd.read_parquet(f)\n",
    "print(df.iloc[0])"
   ],
   "metadata": {
    "collapsed": false,
    "ExecuteTime": {
     "end_time": "2024-07-18T17:30:20.137778600Z",
     "start_time": "2024-07-18T17:30:19.871036200Z"
    }
   },
   "id": "58c8acd0251e4222"
  },
  {
   "cell_type": "markdown",
   "source": [
    "### Check this!?"
   ],
   "metadata": {
    "collapsed": false
   },
   "id": "a154a7fad6696924"
  },
  {
   "cell_type": "code",
   "execution_count": 29,
   "outputs": [
    {
     "name": "stdout",
     "output_type": "stream",
     "text": [
      "results/data4model_individual_hex_w1h0.parquet\n",
      "uid                          00008608-f79e-414d-bf1c-25632d6bc059\n",
      "zone                                                3490006228000\n",
      "region                                                  1284C1040\n",
      "wt_p                                                    84.428571\n",
      "ice_r                                                    0.324146\n",
      "grp_r                                                           D\n",
      "ice_e                                                    0.201666\n",
      "grp                                                             N\n",
      "number_of_locations                                            43\n",
      "number_of_visits                                               96\n",
      "median_distance_from_home                                 0.21554\n",
      "average_displacement                                    34.301877\n",
      "radius_of_gyration                                     114.406844\n",
      "Other                                                    0.042657\n",
      "Lowest income group                                      0.088063\n",
      "car_ownership                                            0.541455\n",
      "Not Sweden                                               0.082517\n",
      "cum_jobs_pt                                                   296\n",
      "cum_jobs_car                                              65662.0\n",
      "evenness_income_resi                                         0.12\n",
      "Name: 0, dtype: object\n"
     ]
    }
   ],
   "source": [
    "f = 'results/data4model_individual_hex_w1h0.parquet'\n",
    "print(f)\n",
    "df = pd.read_parquet(f)\n",
    "print(df.iloc[0])"
   ],
   "metadata": {
    "collapsed": false,
    "ExecuteTime": {
     "end_time": "2024-07-18T17:33:13.859125500Z",
     "start_time": "2024-07-18T17:33:13.468876300Z"
    }
   },
   "id": "5b22d08a26c09a96"
  },
  {
   "cell_type": "markdown",
   "source": [
    "## 1.2 Figure 2"
   ],
   "metadata": {
    "collapsed": false
   },
   "id": "3698524f9ffa3c96"
  },
  {
   "cell_type": "code",
   "execution_count": 28,
   "outputs": [
    {
     "name": "stdout",
     "output_type": "stream",
     "text": [
      "results/plot/seg_sims_plot.parquet\n",
      "wt_p        84.428571\n",
      "grp_r               D\n",
      "variable      ice_enh\n",
      "value        0.047824\n",
      "Name: 0, dtype: object\n"
     ]
    }
   ],
   "source": [
    "f = 'results/plot/seg_sims_plot.parquet'\n",
    "print(f)\n",
    "df = pd.read_parquet(f)\n",
    "print(df.iloc[0])"
   ],
   "metadata": {
    "collapsed": false,
    "ExecuteTime": {
     "end_time": "2024-07-18T17:31:54.333095100Z",
     "start_time": "2024-07-18T17:31:54.020589400Z"
    }
   },
   "id": "e68851c6862bef7b"
  },
  {
   "cell_type": "code",
   "execution_count": 30,
   "outputs": [
    {
     "name": "stdout",
     "output_type": "stream",
     "text": [
      "results/plot/group_exposure_plot_combined.parquet\n",
      "wt_p          84.428571\n",
      "grp_r                 D\n",
      "value         -1.583836\n",
      "inter_type           DF\n",
      "Group                 2\n",
      "Source        Empirical\n",
      "Name: 0, dtype: object\n"
     ]
    }
   ],
   "source": [
    "f = 'results/plot/group_exposure_plot_combined.parquet'\n",
    "print(f)\n",
    "df = pd.read_parquet(f)\n",
    "print(df.iloc[0])"
   ],
   "metadata": {
    "collapsed": false,
    "ExecuteTime": {
     "end_time": "2024-07-18T17:41:14.643763400Z",
     "start_time": "2024-07-18T17:41:14.024183400Z"
    }
   },
   "id": "484af99c2e9d65e0"
  },
  {
   "cell_type": "markdown",
   "source": [
    "### 1.3 Figure 3"
   ],
   "metadata": {
    "collapsed": false
   },
   "id": "6c04779851d6be3d"
  },
  {
   "cell_type": "code",
   "execution_count": 32,
   "outputs": [
    {
     "name": "stdout",
     "output_type": "stream",
     "text": [
      "results/seg_range_by_poi_type.parquet\n",
      "weekday             1\n",
      "holiday             0\n",
      "poi_type    Education\n",
      "grp_r               D\n",
      "mean         0.029658\n",
      "q25         -0.175669\n",
      "q50          0.037471\n",
      "q75           0.22767\n",
      "var         ice_birth\n",
      "Name: 0, dtype: object\n"
     ]
    }
   ],
   "source": [
    "f = 'results/seg_range_by_poi_type.parquet'\n",
    "print(f)\n",
    "df = pd.read_parquet(f)\n",
    "print(df.iloc[0])"
   ],
   "metadata": {
    "collapsed": false,
    "ExecuteTime": {
     "end_time": "2024-07-18T17:44:03.761209400Z",
     "start_time": "2024-07-18T17:44:03.636203100Z"
    }
   },
   "id": "f4e91d02218ae4c0"
  },
  {
   "cell_type": "code",
   "execution_count": 33,
   "outputs": [
    {
     "name": "stdout",
     "output_type": "stream",
     "text": [
      "results/d2h_range_by_poi_type.parquet\n",
      "poi_type       Education\n",
      "grp_r                  D\n",
      "mean        53336.897569\n",
      "q25          1071.681062\n",
      "q50          7756.164028\n",
      "q75         28776.097728\n",
      "var                  d2h\n",
      "count               3776\n",
      "Name: 0, dtype: object\n"
     ]
    }
   ],
   "source": [
    "f = 'results/d2h_range_by_poi_type.parquet'\n",
    "print(f)\n",
    "df = pd.read_parquet(f)\n",
    "print(df.iloc[0])"
   ],
   "metadata": {
    "collapsed": false,
    "ExecuteTime": {
     "end_time": "2024-07-18T17:44:22.317450500Z",
     "start_time": "2024-07-18T17:44:22.223345100Z"
    }
   },
   "id": "971ec9f880339f71"
  },
  {
   "cell_type": "code",
   "execution_count": 34,
   "outputs": [
    {
     "name": "stdout",
     "output_type": "stream",
     "text": [
      "results/plot/seg_grp_vs_rg.parquet\n",
      "grp_r                       D\n",
      "seg_cat             -0.366458\n",
      "q50_est              39.71856\n",
      "q50_se               1.605985\n",
      "lower               38.112575\n",
      "upper               41.324544\n",
      "var        radius_of_gyration\n",
      "Name: 0, dtype: object\n"
     ]
    }
   ],
   "source": [
    "f = 'results/plot/seg_grp_vs_rg.parquet'\n",
    "print(f)\n",
    "df = pd.read_parquet(f)\n",
    "print(df.iloc[0])"
   ],
   "metadata": {
    "collapsed": false,
    "ExecuteTime": {
     "end_time": "2024-07-18T17:44:51.452225800Z",
     "start_time": "2024-07-18T17:44:51.311961800Z"
    }
   },
   "id": "ecb7b6ea1462381c"
  },
  {
   "cell_type": "code",
   "execution_count": 35,
   "outputs": [
    {
     "name": "stdout",
     "output_type": "stream",
     "text": [
      "results/plot/seg_car_grp_vs_pt_access.parquet\n",
      "grp_r                    D\n",
      "seg_car_cat      -0.286521\n",
      "car_cat                  H\n",
      "q50_est               96.0\n",
      "q50_se            6.892741\n",
      "lower            89.107259\n",
      "upper           102.892741\n",
      "var            cum_jobs_pt\n",
      "Name: 0, dtype: object\n"
     ]
    }
   ],
   "source": [
    "f = 'results/plot/seg_car_grp_vs_pt_access.parquet'\n",
    "print(f)\n",
    "df = pd.read_parquet(f)\n",
    "print(df.iloc[0])"
   ],
   "metadata": {
    "collapsed": false,
    "ExecuteTime": {
     "end_time": "2024-07-18T17:45:20.373331900Z",
     "start_time": "2024-07-18T17:45:20.247120900Z"
    }
   },
   "id": "2ee7ed0968437ae7"
  }
 ],
 "metadata": {
  "kernelspec": {
   "display_name": "Python 3",
   "language": "python",
   "name": "python3"
  },
  "language_info": {
   "codemirror_mode": {
    "name": "ipython",
    "version": 2
   },
   "file_extension": ".py",
   "mimetype": "text/x-python",
   "name": "python",
   "nbconvert_exporter": "python",
   "pygments_lexer": "ipython2",
   "version": "2.7.6"
  }
 },
 "nbformat": 4,
 "nbformat_minor": 5
}
